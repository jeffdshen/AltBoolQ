{
 "cells": [
  {
   "cell_type": "code",
   "execution_count": null,
   "metadata": {},
   "outputs": [],
   "source": [
    "import spacy\n",
    "import gensim.downloader\n",
    "\n",
    "from altboolq import *"
   ]
  },
  {
   "cell_type": "code",
   "execution_count": null,
   "metadata": {},
   "outputs": [],
   "source": [
    "!python -m spacy download en_core_web_md"
   ]
  },
  {
   "cell_type": "code",
   "execution_count": null,
   "metadata": {},
   "outputs": [],
   "source": [
    "dfs = get_dfs()"
   ]
  },
  {
   "cell_type": "code",
   "execution_count": null,
   "metadata": {},
   "outputs": [],
   "source": [
    "config = {\n",
    "    \"name\": \"maskboolq_train_v1\",\n",
    "    \"df\": \"boolq_train\",\n",
    "    \"alpha\": 0.05,\n",
    "    \"grouping_cutoff\": 0.55,\n",
    "    \"tfidf_cutoff\": 5,\n",
    "    \"freq_cutoff\": 0.1,\n",
    "    \"group_size\": 5,\n",
    "    \"filter\": \"group_accuracy\",\n",
    "    \"resample\": \"mask\",\n",
    "    \"glove_path\": \"glove-wiki-gigaword-300\",\n",
    "    \"nlp_path\": \"en_core_web_md\",\n",
    "}"
   ]
  },
  {
   "cell_type": "code",
   "execution_count": null,
   "metadata": {},
   "outputs": [],
   "source": [
    "aug_df = run_augment(dfs, config, gensim.downloader, spacy)"
   ]
  },
  {
   "cell_type": "code",
   "execution_count": null,
   "metadata": {},
   "outputs": [],
   "source": [
    "write_df(config, aug_df)"
   ]
  }
 ],
 "metadata": {
  "language_info": {
   "name": "python"
  },
  "orig_nbformat": 4
 },
 "nbformat": 4,
 "nbformat_minor": 2
}
